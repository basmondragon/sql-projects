{
 "cells": [
  {
   "cell_type": "markdown",
   "metadata": {},
   "source": [
    "### IMPORTANT!\n",
    "\n",
    "First of all it's important to import the necessary libraries to work with SQL in a Jupyter Notebook"
   ]
  },
  {
   "cell_type": "code",
   "execution_count": 2,
   "metadata": {},
   "outputs": [],
   "source": [
    "import sqlite3\n",
    "import prettytable          # This is useful to display tables when querying SQL in a Jupiter Notebook\n",
    "\n",
    "con = sqlite3.connect(\"e-commerce.db\")\n",
    "cur = con.cursor()\n",
    "\n",
    "prettytable.DEFAULT = 'DEFAULT'\n",
    "\n",
    "%load_ext sql\n",
    "%sql sqlite:///e-commerce.db"
   ]
  },
  {
   "cell_type": "markdown",
   "metadata": {},
   "source": [
    "My database is empty, so next I will create tables and insert some"
   ]
  },
  {
   "cell_type": "code",
   "execution_count": 3,
   "metadata": {},
   "outputs": [
    {
     "name": "stdout",
     "output_type": "stream",
     "text": [
      " * sqlite:///e-commerce.db\n",
      "Done.\n",
      "Done.\n",
      "Done.\n",
      "Done.\n",
      "8 rows affected.\n",
      "10 rows affected.\n",
      "13 rows affected.\n",
      "14 rows affected.\n"
     ]
    },
    {
     "data": {
      "text/plain": [
       "[]"
      ]
     },
     "execution_count": 3,
     "metadata": {},
     "output_type": "execute_result"
    }
   ],
   "source": [
    "%%sql\n",
    "\n",
    "CREATE TABLE Customers (\n",
    "    customer_id INTEGER PRIMARY KEY,\n",
    "    name VARCHAR(100) NOT NULL,\n",
    "    email VARCHAR(100) UNIQUE NOT NULL,\n",
    "    date_joined DATE NOT NULL,\n",
    "    city VARCHAR(50),\n",
    "    is_premium BOOLEAN DEFAULT FALSE\n",
    ");\n",
    "\n",
    "CREATE TABLE Orders (\n",
    "    order_id INTEGER PRIMARY KEY,\n",
    "    customer_id INT NOT NULL,\n",
    "    order_date DATE NOT NULL,\n",
    "    total_amount DECIMAL(10,2) NOT NULL,\n",
    "    FOREIGN KEY (customer_id) REFERENCES Customers(customer_id)\n",
    ");\n",
    "\n",
    "CREATE TABLE Products (\n",
    "    product_id INTEGER PRIMARY KEY,\n",
    "    name VARCHAR(100) NOT NULL,\n",
    "    price DECIMAL(10,2) NOT NULL,\n",
    "    category VARCHAR(50),\n",
    "    in_stock BOOLEAN DEFAULT TRUE\n",
    ");\n",
    "\n",
    "CREATE TABLE OrderItems (\n",
    "    order_item_id INTEGER PRIMARY KEY,\n",
    "    order_id INT NOT NULL,\n",
    "    product_id INT NOT NULL,\n",
    "    quantity INT NOT NULL,\n",
    "    FOREIGN KEY (order_id) REFERENCES Orders(order_id),\n",
    "    FOREIGN KEY (product_id) REFERENCES Products(product_id)\n",
    ");\n",
    "\n",
    "INSERT INTO Customers (name, email, date_joined, city, is_premium) VALUES\n",
    "('Emma Wilson', 'emma.w@mail.com', '2021-11-05', 'Chicago', TRUE),\n",
    "('Michael Brown', 'mike.b@mail.com', '2022-07-12', 'Houston', FALSE),\n",
    "('Sophia Lee', 'sophia.lee@mail.com', '2023-01-20', 'Seattle', TRUE),\n",
    "('Daniel Kim', 'dan.k@mail.com', '2023-03-15', 'Boston', FALSE),\n",
    "('Olivia Davis', 'olivia.d@mail.com', '2022-09-01', 'Miami', TRUE),\n",
    "('Liam Johnson', 'liam.j@mail.com', '2023-04-10', 'Denver', FALSE),\n",
    "('Ava Martinez', 'ava.m@mail.com', '2022-12-25', 'Austin', TRUE),\n",
    "('Noah Garcia', 'noah.g@mail.com', '2023-02-14', 'San Francisco', FALSE);\n",
    "\n",
    "INSERT INTO Products (name, price, category, in_stock) VALUES\n",
    "('Smartwatch Pro', 299.99, 'Electronics', TRUE),\n",
    "('Bluetooth Speaker', 89.99, 'Electronics', TRUE),\n",
    "('Organic Green Tea', 8.99, 'Groceries', FALSE),\n",
    "('Yoga Block Set', 19.99, 'Fitness', TRUE),\n",
    "('Wireless Keyboard', 59.95, 'Electronics', TRUE),\n",
    "('Stainless Steel Cookware Set', 199.00, 'Home', FALSE),\n",
    "('Running Shoes', 129.99, 'Fitness', TRUE),\n",
    "('Digital Camera', 449.00, 'Electronics', TRUE),\n",
    "('Air Purifier', 159.00, 'Home', TRUE),\n",
    "('Graphic Novel Collection', 49.99, 'Books', TRUE);\n",
    "\n",
    "INSERT INTO Orders (customer_id, order_date, total_amount) VALUES\n",
    "(1, '2023-03-05', 359.98),\n",
    "(2, '2023-04-02', 168.93),\n",
    "(3, '2023-04-15', 228.94),\n",
    "(4, '2023-05-01', 89.99),\n",
    "(5, '2023-05-10', 259.98),\n",
    "(6, '2023-05-12', 199.00),\n",
    "(7, '2023-05-15', 129.99),\n",
    "(8, '2023-05-20', 508.94),\n",
    "(1, '2023-05-25', 79.96),\n",
    "(2, '2023-06-01', 449.00),\n",
    "(3, '2023-06-05', 199.99),\n",
    "(4, '2023-06-10', 299.95),\n",
    "(5, '2023-06-15', 159.00);\n",
    "\n",
    "INSERT INTO OrderItems (order_id, product_id, quantity) VALUES\n",
    "(4, 2, 2),\n",
    "(4, 5, 1),\n",
    "(5, 1, 1),\n",
    "(5, 10, 2),\n",
    "(6, 6, 1),\n",
    "(7, 7, 1),\n",
    "(8, 8, 1),\n",
    "(8, 9, 1),\n",
    "(9, 3, 4),\n",
    "(9, 4, 2),\n",
    "(10, 8, 1),\n",
    "(11, 5, 2),\n",
    "(12, 9, 1),\n",
    "(13, 2, 3);"
   ]
  },
  {
   "cell_type": "markdown",
   "metadata": {},
   "source": [
    "---"
   ]
  },
  {
   "cell_type": "markdown",
   "metadata": {},
   "source": [
    "### **Task 1: Customers Who Ordered Products from Multiple Categories**\n",
    "**Goal:** Find customers who have ordered products from at least 3 different categories.  \n",
    "\n",
    "---"
   ]
  },
  {
   "cell_type": "code",
   "execution_count": null,
   "metadata": {
    "vscode": {
     "languageId": "sql"
    }
   },
   "outputs": [
    {
     "name": "stdout",
     "output_type": "stream",
     "text": [
      " * sqlite:///e-commerce.db\n",
      "Done.\n"
     ]
    },
    {
     "data": {
      "text/html": [
       "<table>\n",
       "    <thead>\n",
       "        <tr>\n",
       "            <th>customer_id</th>\n",
       "            <th>name</th>\n",
       "        </tr>\n",
       "    </thead>\n",
       "    <tbody>\n",
       "        <tr>\n",
       "            <td>1</td>\n",
       "            <td>Emma Wilson</td>\n",
       "        </tr>\n",
       "        <tr>\n",
       "            <td>2</td>\n",
       "            <td>Michael Brown</td>\n",
       "        </tr>\n",
       "        <tr>\n",
       "            <td>3</td>\n",
       "            <td>Sophia Lee</td>\n",
       "        </tr>\n",
       "        <tr>\n",
       "            <td>4</td>\n",
       "            <td>Daniel Kim</td>\n",
       "        </tr>\n",
       "        <tr>\n",
       "            <td>5</td>\n",
       "            <td>Olivia Davis</td>\n",
       "        </tr>\n",
       "        <tr>\n",
       "            <td>6</td>\n",
       "            <td>Liam Johnson</td>\n",
       "        </tr>\n",
       "        <tr>\n",
       "            <td>7</td>\n",
       "            <td>Ava Martinez</td>\n",
       "        </tr>\n",
       "        <tr>\n",
       "            <td>8</td>\n",
       "            <td>Noah Garcia</td>\n",
       "        </tr>\n",
       "    </tbody>\n",
       "</table>"
      ],
      "text/plain": [
       "[(1, 'Emma Wilson'),\n",
       " (2, 'Michael Brown'),\n",
       " (3, 'Sophia Lee'),\n",
       " (4, 'Daniel Kim'),\n",
       " (5, 'Olivia Davis'),\n",
       " (6, 'Liam Johnson'),\n",
       " (7, 'Ava Martinez'),\n",
       " (8, 'Noah Garcia')]"
      ]
     },
     "execution_count": 26,
     "metadata": {},
     "output_type": "execute_result"
    }
   ],
   "source": [
    "%%sql\n",
    "\n",
    "SELECT\n",
    "    c.customer_id,\n",
    "    c.name\n",
    "FROM\n",
    "    Customers c\n",
    "    JOIN Orders o ON c.customer_id = o.customer_id\n",
    "    JOIN OrderItems oi ON o.order_id = o.order_id\n",
    "    JOIN Products p ON oi.product_id = p.product_id\n",
    "GROUP BY\n",
    "    c.customer_id, c.name\n",
    "HAVING\n",
    "    COUNT(DISTINCT category) >= 3"
   ]
  },
  {
   "cell_type": "markdown",
   "metadata": {},
   "source": [
    "### **Task 2: Average Order Value by Month**\n",
    "**Goal:** Calculate the average order value for each month in 2023.  \n",
    "**Hint:**  \n",
    "- Extract the month from `order_date` using `EXTRACT(MONTH FROM order_date)` or equivalent.  \n",
    "- Group by month and calculate `AVG(total_amount)`.  \n",
    "\n",
    "---"
   ]
  },
  {
   "cell_type": "code",
   "execution_count": 13,
   "metadata": {
    "vscode": {
     "languageId": "sql"
    }
   },
   "outputs": [
    {
     "name": "stdout",
     "output_type": "stream",
     "text": [
      " * sqlite:///e-commerce.db\n",
      "Done.\n"
     ]
    },
    {
     "data": {
      "text/html": [
       "<table>\n",
       "    <thead>\n",
       "        <tr>\n",
       "            <th>month_number</th>\n",
       "            <th>average_amount</th>\n",
       "        </tr>\n",
       "    </thead>\n",
       "    <tbody>\n",
       "        <tr>\n",
       "            <td>03</td>\n",
       "            <td>359.98</td>\n",
       "        </tr>\n",
       "        <tr>\n",
       "            <td>04</td>\n",
       "            <td>198.935</td>\n",
       "        </tr>\n",
       "        <tr>\n",
       "            <td>05</td>\n",
       "            <td>211.31000000000003</td>\n",
       "        </tr>\n",
       "        <tr>\n",
       "            <td>06</td>\n",
       "            <td>276.985</td>\n",
       "        </tr>\n",
       "    </tbody>\n",
       "</table>"
      ],
      "text/plain": [
       "[('03', 359.98), ('04', 198.935), ('05', 211.31000000000003), ('06', 276.985)]"
      ]
     },
     "execution_count": 13,
     "metadata": {},
     "output_type": "execute_result"
    }
   ],
   "source": [
    "%%sql\n",
    "\n",
    "SELECT\n",
    "    strftime('%m', order_date) AS month_number,\n",
    "    AVG(total_amount) AS average_amount\n",
    "FROM\n",
    "    Orders\n",
    "WHERE\n",
    "    strftime('%Y', order_date) = '2023'\n",
    "GROUP BY\n",
    "    strftime('%m', order_date)"
   ]
  },
  {
   "cell_type": "markdown",
   "metadata": {},
   "source": [
    "### **Task 3: Customers Who Ordered Both Electronics and Fitness Products**\n",
    "**Goal:** List customers who bought products from **both** \"Electronics\" and \"Fitness\" categories.\n",
    "\n",
    "---"
   ]
  },
  {
   "cell_type": "code",
   "execution_count": 43,
   "metadata": {
    "vscode": {
     "languageId": "sql"
    }
   },
   "outputs": [
    {
     "name": "stdout",
     "output_type": "stream",
     "text": [
      " * sqlite:///e-commerce.db\n",
      "Done.\n"
     ]
    },
    {
     "data": {
      "text/html": [
       "<table>\n",
       "    <thead>\n",
       "        <tr>\n",
       "            <th>customer_id</th>\n",
       "            <th>name</th>\n",
       "            <th>email</th>\n",
       "        </tr>\n",
       "    </thead>\n",
       "    <tbody>\n",
       "    </tbody>\n",
       "</table>"
      ],
      "text/plain": [
       "[]"
      ]
     },
     "execution_count": 43,
     "metadata": {},
     "output_type": "execute_result"
    }
   ],
   "source": [
    "%%sql\n",
    "\n",
    "SELECT\n",
    "    c.customer_id,\n",
    "    c.name,\n",
    "    c.email\n",
    "FROM\n",
    "    Customers c\n",
    "    JOIN Orders o ON c.customer_id = o.customer_id\n",
    "    JOIN OrderItems oi ON o.order_id = oi.order_id\n",
    "    JOIN Products p ON oi.product_id = p.product_id\n",
    "WHERE\n",
    "    p.category IN ('Fitness', 'Electronics')\n",
    "GROUP BY\n",
    "    c.customer_id,\n",
    "    c.name,\n",
    "    c.email\n",
    "HAVING\n",
    "    COUNT(DISTINCT p.category) = 2;"
   ]
  },
  {
   "cell_type": "markdown",
   "metadata": {},
   "source": [
    "### **Task 4: Products Only Ordered Once**\n",
    "**Goal:** Find products that were included in **exactly one order** (no repeats).  \n",
    "\n",
    "---"
   ]
  },
  {
   "cell_type": "code",
   "execution_count": 55,
   "metadata": {
    "vscode": {
     "languageId": "sql"
    }
   },
   "outputs": [
    {
     "name": "stdout",
     "output_type": "stream",
     "text": [
      " * sqlite:///e-commerce.db\n",
      "Done.\n"
     ]
    },
    {
     "data": {
      "text/html": [
       "<table>\n",
       "    <thead>\n",
       "        <tr>\n",
       "            <th>product_id</th>\n",
       "            <th>product_name</th>\n",
       "            <th>orders_included</th>\n",
       "        </tr>\n",
       "    </thead>\n",
       "    <tbody>\n",
       "        <tr>\n",
       "            <td>1</td>\n",
       "            <td>Smartwatch Pro</td>\n",
       "            <td>1</td>\n",
       "        </tr>\n",
       "        <tr>\n",
       "            <td>3</td>\n",
       "            <td>Organic Green Tea</td>\n",
       "            <td>1</td>\n",
       "        </tr>\n",
       "        <tr>\n",
       "            <td>4</td>\n",
       "            <td>Yoga Block Set</td>\n",
       "            <td>1</td>\n",
       "        </tr>\n",
       "        <tr>\n",
       "            <td>6</td>\n",
       "            <td>Stainless Steel Cookware Set</td>\n",
       "            <td>1</td>\n",
       "        </tr>\n",
       "        <tr>\n",
       "            <td>7</td>\n",
       "            <td>Running Shoes</td>\n",
       "            <td>1</td>\n",
       "        </tr>\n",
       "        <tr>\n",
       "            <td>10</td>\n",
       "            <td>Graphic Novel Collection</td>\n",
       "            <td>1</td>\n",
       "        </tr>\n",
       "    </tbody>\n",
       "</table>"
      ],
      "text/plain": [
       "[(1, 'Smartwatch Pro', 1),\n",
       " (3, 'Organic Green Tea', 1),\n",
       " (4, 'Yoga Block Set', 1),\n",
       " (6, 'Stainless Steel Cookware Set', 1),\n",
       " (7, 'Running Shoes', 1),\n",
       " (10, 'Graphic Novel Collection', 1)]"
      ]
     },
     "execution_count": 55,
     "metadata": {},
     "output_type": "execute_result"
    }
   ],
   "source": [
    "%%sql\n",
    "\n",
    "SELECT\n",
    "    p.product_id,\n",
    "    p.name AS product_name,\n",
    "    COUNT(oi.order_id) AS orders_included\n",
    "FROM\n",
    "    Products p\n",
    "    JOIN OrderItems oi ON p.product_id = oi.product_id\n",
    "GROUP BY\n",
    "    p.product_id\n",
    "HAVING\n",
    "    COUNT(oi.order_id) = 1\n",
    "    "
   ]
  },
  {
   "cell_type": "markdown",
   "metadata": {},
   "source": [
    "### **Task 5: Customers Who Ordered Every Month in 2023**\n",
    "**Goal:** Identify customers who placed orders in **all 12 months** of 2023.  \n",
    "\n",
    "---"
   ]
  },
  {
   "cell_type": "code",
   "execution_count": 17,
   "metadata": {
    "vscode": {
     "languageId": "sql"
    }
   },
   "outputs": [
    {
     "name": "stdout",
     "output_type": "stream",
     "text": [
      " * sqlite:///e-commerce.db\n",
      "Done.\n"
     ]
    },
    {
     "data": {
      "text/html": [
       "<table>\n",
       "    <thead>\n",
       "        <tr>\n",
       "            <th>customer_id</th>\n",
       "            <th>name</th>\n",
       "            <th>email</th>\n",
       "        </tr>\n",
       "    </thead>\n",
       "    <tbody>\n",
       "    </tbody>\n",
       "</table>"
      ],
      "text/plain": [
       "[]"
      ]
     },
     "execution_count": 17,
     "metadata": {},
     "output_type": "execute_result"
    }
   ],
   "source": [
    "%%sql\n",
    "\n",
    "SELECT\n",
    "    c.customer_id,\n",
    "    c.name,\n",
    "    c.email\n",
    "FROM\n",
    "    Customers c \n",
    "    JOIN Orders o ON c.customer_id = o.customer_id\n",
    "WHERE\n",
    "    strftime('%Y', o.order_date) = '2023'\n",
    "GROUP BY\n",
    "    c.customer_id\n",
    "HAVING\n",
    "    COUNT(DISTINCT strftime('%m', o.order_date)) = 12\n"
   ]
  },
  {
   "cell_type": "markdown",
   "metadata": {},
   "source": [
    "For MySQL the dates are extracted different, it's more like:\n",
    "\n",
    "```sql\n",
    "MONTH(o.order_date)\n",
    "--- or\n",
    "YEAR(o.order_date)\n",
    "```"
   ]
  },
  {
   "cell_type": "markdown",
   "metadata": {
    "vscode": {
     "languageId": "sql"
    }
   },
   "source": [
    "### **Task 6: Rank Customers by Total Spending**\n",
    "**Goal:** Rank customers by their total spending, showing their rank and total amount.  \n",
    "\n",
    "---"
   ]
  },
  {
   "cell_type": "code",
   "execution_count": 22,
   "metadata": {
    "vscode": {
     "languageId": "sql"
    }
   },
   "outputs": [
    {
     "name": "stdout",
     "output_type": "stream",
     "text": [
      " * sqlite:///e-commerce.db\n",
      "Done.\n"
     ]
    },
    {
     "data": {
      "text/html": [
       "<table>\n",
       "    <thead>\n",
       "        <tr>\n",
       "            <th>rank_number</th>\n",
       "            <th>customer_id</th>\n",
       "            <th>name</th>\n",
       "            <th>total_spending</th>\n",
       "        </tr>\n",
       "    </thead>\n",
       "    <tbody>\n",
       "        <tr>\n",
       "            <td>1</td>\n",
       "            <td>2</td>\n",
       "            <td>Michael Brown</td>\n",
       "            <td>617.9300000000001</td>\n",
       "        </tr>\n",
       "        <tr>\n",
       "            <td>2</td>\n",
       "            <td>8</td>\n",
       "            <td>Noah Garcia</td>\n",
       "            <td>508.94</td>\n",
       "        </tr>\n",
       "        <tr>\n",
       "            <td>3</td>\n",
       "            <td>1</td>\n",
       "            <td>Emma Wilson</td>\n",
       "            <td>439.94</td>\n",
       "        </tr>\n",
       "        <tr>\n",
       "            <td>4</td>\n",
       "            <td>3</td>\n",
       "            <td>Sophia Lee</td>\n",
       "            <td>428.93</td>\n",
       "        </tr>\n",
       "        <tr>\n",
       "            <td>5</td>\n",
       "            <td>5</td>\n",
       "            <td>Olivia Davis</td>\n",
       "            <td>418.98</td>\n",
       "        </tr>\n",
       "        <tr>\n",
       "            <td>6</td>\n",
       "            <td>4</td>\n",
       "            <td>Daniel Kim</td>\n",
       "            <td>389.94</td>\n",
       "        </tr>\n",
       "        <tr>\n",
       "            <td>7</td>\n",
       "            <td>6</td>\n",
       "            <td>Liam Johnson</td>\n",
       "            <td>199</td>\n",
       "        </tr>\n",
       "        <tr>\n",
       "            <td>8</td>\n",
       "            <td>7</td>\n",
       "            <td>Ava Martinez</td>\n",
       "            <td>129.99</td>\n",
       "        </tr>\n",
       "    </tbody>\n",
       "</table>"
      ],
      "text/plain": [
       "[(1, 2, 'Michael Brown', 617.9300000000001),\n",
       " (2, 8, 'Noah Garcia', 508.94),\n",
       " (3, 1, 'Emma Wilson', 439.94),\n",
       " (4, 3, 'Sophia Lee', 428.93),\n",
       " (5, 5, 'Olivia Davis', 418.98),\n",
       " (6, 4, 'Daniel Kim', 389.94),\n",
       " (7, 6, 'Liam Johnson', 199),\n",
       " (8, 7, 'Ava Martinez', 129.99)]"
      ]
     },
     "execution_count": 22,
     "metadata": {},
     "output_type": "execute_result"
    }
   ],
   "source": [
    "%%sql\n",
    "\n",
    "SELECT\n",
    "    RANK() OVER (ORDER BY SUM(o.total_amount) DESC) AS rank_number,\n",
    "    c.customer_id,\n",
    "    c.name,\n",
    "    SUM(o.total_amount) AS total_spending\n",
    "FROM\n",
    "    Customers c\n",
    "    JOIN Orders o ON c.customer_id = o.customer_id\n",
    "GROUP BY\n",
    "    c.customer_id,\n",
    "    c.name"
   ]
  },
  {
   "cell_type": "markdown",
   "metadata": {},
   "source": [
    "### **Task 7: Customers Who Ordered a Now-Out-of-Stock Product**\n",
    "**Goal:** Find customers who ordered products that are **currently out of stock**.  \n",
    "\n",
    "---"
   ]
  },
  {
   "cell_type": "code",
   "execution_count": 26,
   "metadata": {
    "vscode": {
     "languageId": "sql"
    }
   },
   "outputs": [
    {
     "name": "stdout",
     "output_type": "stream",
     "text": [
      " * sqlite:///e-commerce.db\n",
      "Done.\n"
     ]
    },
    {
     "data": {
      "text/html": [
       "<table>\n",
       "    <thead>\n",
       "        <tr>\n",
       "            <th>customer_id</th>\n",
       "            <th>name</th>\n",
       "            <th>email</th>\n",
       "            <th>date_joined</th>\n",
       "            <th>city</th>\n",
       "            <th>is_premium</th>\n",
       "        </tr>\n",
       "    </thead>\n",
       "    <tbody>\n",
       "        <tr>\n",
       "            <td>6</td>\n",
       "            <td>Liam Johnson</td>\n",
       "            <td>liam.j@mail.com</td>\n",
       "            <td>2023-04-10</td>\n",
       "            <td>Denver</td>\n",
       "            <td>0</td>\n",
       "        </tr>\n",
       "        <tr>\n",
       "            <td>1</td>\n",
       "            <td>Emma Wilson</td>\n",
       "            <td>emma.w@mail.com</td>\n",
       "            <td>2021-11-05</td>\n",
       "            <td>Chicago</td>\n",
       "            <td>1</td>\n",
       "        </tr>\n",
       "    </tbody>\n",
       "</table>"
      ],
      "text/plain": [
       "[(6, 'Liam Johnson', 'liam.j@mail.com', '2023-04-10', 'Denver', 0),\n",
       " (1, 'Emma Wilson', 'emma.w@mail.com', '2021-11-05', 'Chicago', 1)]"
      ]
     },
     "execution_count": 26,
     "metadata": {},
     "output_type": "execute_result"
    }
   ],
   "source": [
    "%%sql\n",
    "\n",
    "SELECT\n",
    "    c.*\n",
    "FROM\n",
    "    Customers c\n",
    "    JOIN Orders o ON c.customer_id = o.customer_id\n",
    "    JOIN OrderItems oi ON o.order_id = oi.order_id\n",
    "    JOIN Products p ON oi.product_id = p.product_id\n",
    "WHERE\n",
    "    p.in_stock IS FALSE\n"
   ]
  },
  {
   "cell_type": "markdown",
   "metadata": {},
   "source": [
    "### **Task 8: Most Popular Product in Each Category**\n",
    "**Goal:** For each category, find the product with the highest total sales.  \n",
    "\n",
    "---"
   ]
  },
  {
   "cell_type": "code",
   "execution_count": 3,
   "metadata": {
    "vscode": {
     "languageId": "sql"
    }
   },
   "outputs": [
    {
     "name": "stdout",
     "output_type": "stream",
     "text": [
      " * sqlite:///e-commerce.db\n",
      "Done.\n"
     ]
    },
    {
     "data": {
      "text/html": [
       "<table>\n",
       "    <thead>\n",
       "        <tr>\n",
       "            <th>product_id</th>\n",
       "            <th>name</th>\n",
       "            <th>category</th>\n",
       "            <th>total_sales</th>\n",
       "            <th>rank_number</th>\n",
       "        </tr>\n",
       "    </thead>\n",
       "    <tbody>\n",
       "        <tr>\n",
       "            <td>10</td>\n",
       "            <td>Graphic Novel Collection</td>\n",
       "            <td>Books</td>\n",
       "            <td>2</td>\n",
       "            <td>1</td>\n",
       "        </tr>\n",
       "        <tr>\n",
       "            <td>2</td>\n",
       "            <td>Bluetooth Speaker</td>\n",
       "            <td>Electronics</td>\n",
       "            <td>5</td>\n",
       "            <td>1</td>\n",
       "        </tr>\n",
       "        <tr>\n",
       "            <td>4</td>\n",
       "            <td>Yoga Block Set</td>\n",
       "            <td>Fitness</td>\n",
       "            <td>2</td>\n",
       "            <td>1</td>\n",
       "        </tr>\n",
       "        <tr>\n",
       "            <td>3</td>\n",
       "            <td>Organic Green Tea</td>\n",
       "            <td>Groceries</td>\n",
       "            <td>4</td>\n",
       "            <td>1</td>\n",
       "        </tr>\n",
       "        <tr>\n",
       "            <td>9</td>\n",
       "            <td>Air Purifier</td>\n",
       "            <td>Home</td>\n",
       "            <td>2</td>\n",
       "            <td>1</td>\n",
       "        </tr>\n",
       "    </tbody>\n",
       "</table>"
      ],
      "text/plain": [
       "[(10, 'Graphic Novel Collection', 'Books', 2, 1),\n",
       " (2, 'Bluetooth Speaker', 'Electronics', 5, 1),\n",
       " (4, 'Yoga Block Set', 'Fitness', 2, 1),\n",
       " (3, 'Organic Green Tea', 'Groceries', 4, 1),\n",
       " (9, 'Air Purifier', 'Home', 2, 1)]"
      ]
     },
     "execution_count": 3,
     "metadata": {},
     "output_type": "execute_result"
    }
   ],
   "source": [
    "%%sql\n",
    "\n",
    "WITH ProductSales AS (\n",
    "    SELECT\n",
    "        p.product_id,\n",
    "        p.name,\n",
    "        p.category,\n",
    "        SUM(oi.quantity) AS total_sales\n",
    "    FROM\n",
    "        Products p\n",
    "        JOIN OrderItems oi ON p.product_id = oi.product_id\n",
    "    GROUP BY\n",
    "        p.product_id,\n",
    "        p.name,\n",
    "        p.category\n",
    "\n",
    "), RankProduct AS (\n",
    "    SELECT\n",
    "        product_id,\n",
    "        name,\n",
    "        category,\n",
    "        total_sales,\n",
    "        ROW_NUMBER() OVER (PARTITION BY category ORDER BY total_sales DESC) AS rank_number\n",
    "    FROM\n",
    "        ProductSales)\n",
    "SELECT\n",
    "    product_id,\n",
    "    name,\n",
    "    category,\n",
    "    total_sales,\n",
    "    rank_number\n",
    "FROM\n",
    "    RankProduct\n",
    "WHERE\n",
    "    rank_number = 1"
   ]
  },
  {
   "cell_type": "markdown",
   "metadata": {},
   "source": [
    "### **Task 9: Customers Who Never Ordered Electronics**\n",
    "**Goal:** List customers who have **never** ordered an \"Electronics\" product.  \n",
    "\n",
    "---"
   ]
  },
  {
   "cell_type": "code",
   "execution_count": 11,
   "metadata": {
    "vscode": {
     "languageId": "sql"
    }
   },
   "outputs": [
    {
     "name": "stdout",
     "output_type": "stream",
     "text": [
      " * sqlite:///e-commerce.db\n",
      "Done.\n"
     ]
    },
    {
     "data": {
      "text/html": [
       "<table>\n",
       "    <thead>\n",
       "        <tr>\n",
       "            <th>customer_id</th>\n",
       "            <th>name</th>\n",
       "            <th>email</th>\n",
       "        </tr>\n",
       "    </thead>\n",
       "    <tbody>\n",
       "        <tr>\n",
       "            <td>1</td>\n",
       "            <td>Emma Wilson</td>\n",
       "            <td>emma.w@mail.com</td>\n",
       "        </tr>\n",
       "        <tr>\n",
       "            <td>6</td>\n",
       "            <td>Liam Johnson</td>\n",
       "            <td>liam.j@mail.com</td>\n",
       "        </tr>\n",
       "        <tr>\n",
       "            <td>7</td>\n",
       "            <td>Ava Martinez</td>\n",
       "            <td>ava.m@mail.com</td>\n",
       "        </tr>\n",
       "    </tbody>\n",
       "</table>"
      ],
      "text/plain": [
       "[(1, 'Emma Wilson', 'emma.w@mail.com'),\n",
       " (6, 'Liam Johnson', 'liam.j@mail.com'),\n",
       " (7, 'Ava Martinez', 'ava.m@mail.com')]"
      ]
     },
     "execution_count": 11,
     "metadata": {},
     "output_type": "execute_result"
    }
   ],
   "source": [
    "%%sql\n",
    "\n",
    "SELECT\n",
    "    customer_id,\n",
    "    name,\n",
    "    email\n",
    "FROM\n",
    "    Customers\n",
    "WHERE\n",
    "    customer_id NOT IN (\n",
    "        SELECT DISTINCT\n",
    "            o.customer_id\n",
    "        FROM\n",
    "            Orders o\n",
    "            JOIN OrderItems oi ON o.order_id = oi.order_id\n",
    "            JOIN Products p ON oi.product_id = p.product_id\n",
    "        WHERE\n",
    "            p.category = 'Electronics'\n",
    "    )"
   ]
  },
  {
   "cell_type": "markdown",
   "metadata": {},
   "source": [
    "### **Task 10: Customer Order Frequency**\n",
    "**Goal:** For each customer, show the number of days between their first and last order.\n",
    "\n",
    "---\n"
   ]
  },
  {
   "cell_type": "code",
   "execution_count": 16,
   "metadata": {
    "vscode": {
     "languageId": "sql"
    }
   },
   "outputs": [
    {
     "name": "stdout",
     "output_type": "stream",
     "text": [
      " * sqlite:///e-commerce.db\n",
      "Done.\n"
     ]
    },
    {
     "data": {
      "text/html": [
       "<table>\n",
       "    <thead>\n",
       "        <tr>\n",
       "            <th>customer_id</th>\n",
       "            <th>name</th>\n",
       "            <th>email</th>\n",
       "            <th>date_difference</th>\n",
       "        </tr>\n",
       "    </thead>\n",
       "    <tbody>\n",
       "        <tr>\n",
       "            <td>1</td>\n",
       "            <td>Emma Wilson</td>\n",
       "            <td>emma.w@mail.com</td>\n",
       "            <td>81.0</td>\n",
       "        </tr>\n",
       "        <tr>\n",
       "            <td>2</td>\n",
       "            <td>Michael Brown</td>\n",
       "            <td>mike.b@mail.com</td>\n",
       "            <td>60.0</td>\n",
       "        </tr>\n",
       "        <tr>\n",
       "            <td>3</td>\n",
       "            <td>Sophia Lee</td>\n",
       "            <td>sophia.lee@mail.com</td>\n",
       "            <td>51.0</td>\n",
       "        </tr>\n",
       "        <tr>\n",
       "            <td>4</td>\n",
       "            <td>Daniel Kim</td>\n",
       "            <td>dan.k@mail.com</td>\n",
       "            <td>40.0</td>\n",
       "        </tr>\n",
       "        <tr>\n",
       "            <td>5</td>\n",
       "            <td>Olivia Davis</td>\n",
       "            <td>olivia.d@mail.com</td>\n",
       "            <td>36.0</td>\n",
       "        </tr>\n",
       "        <tr>\n",
       "            <td>6</td>\n",
       "            <td>Liam Johnson</td>\n",
       "            <td>liam.j@mail.com</td>\n",
       "            <td>0.0</td>\n",
       "        </tr>\n",
       "        <tr>\n",
       "            <td>7</td>\n",
       "            <td>Ava Martinez</td>\n",
       "            <td>ava.m@mail.com</td>\n",
       "            <td>0.0</td>\n",
       "        </tr>\n",
       "        <tr>\n",
       "            <td>8</td>\n",
       "            <td>Noah Garcia</td>\n",
       "            <td>noah.g@mail.com</td>\n",
       "            <td>0.0</td>\n",
       "        </tr>\n",
       "    </tbody>\n",
       "</table>"
      ],
      "text/plain": [
       "[(1, 'Emma Wilson', 'emma.w@mail.com', 81.0),\n",
       " (2, 'Michael Brown', 'mike.b@mail.com', 60.0),\n",
       " (3, 'Sophia Lee', 'sophia.lee@mail.com', 51.0),\n",
       " (4, 'Daniel Kim', 'dan.k@mail.com', 40.0),\n",
       " (5, 'Olivia Davis', 'olivia.d@mail.com', 36.0),\n",
       " (6, 'Liam Johnson', 'liam.j@mail.com', 0.0),\n",
       " (7, 'Ava Martinez', 'ava.m@mail.com', 0.0),\n",
       " (8, 'Noah Garcia', 'noah.g@mail.com', 0.0)]"
      ]
     },
     "execution_count": 16,
     "metadata": {},
     "output_type": "execute_result"
    }
   ],
   "source": [
    "%%sql\n",
    "\n",
    "\n",
    "WITH OrderDates AS (\n",
    "    SELECT\n",
    "        c.customer_id,\n",
    "        c.name,\n",
    "        c.email,\n",
    "        MIN(o.order_date) AS first_order,\n",
    "        MAX(o.order_date) AS last_order\n",
    "    FROM\n",
    "        Customers c\n",
    "        JOIN Orders o ON c.customer_id = o.customer_id\n",
    "    GROUP BY\n",
    "        c.customer_id,\n",
    "        c.name,\n",
    "        c.email\n",
    ")\n",
    "SELECT\n",
    "    customer_id,\n",
    "    name,\n",
    "    email,\n",
    "    julianday(last_order) - julianday(first_order) AS date_difference\n",
    "FROM\n",
    "    OrderDates\n"
   ]
  },
  {
   "cell_type": "markdown",
   "metadata": {},
   "source": [
    "'julianday' is used in SQLite, for MySQL it's 'DATEDIFF()'\n",
    "\n",
    "```sql\n",
    "    DATEDIFF(last_order, first_order) AS date_difference\n",
    "```\n",
    "\n",
    "I like more MySQL, I'm using SQLite for the sake of displaying the tasks in Jupyter"
   ]
  },
  {
   "cell_type": "markdown",
   "metadata": {},
   "source": [
    "### About the Author\n",
    "\n",
    "**Name:** Sebastian Mondragon  \n",
    "\n",
    "- **Email:** basmondragon@proton.me\n",
    "- **Telegram:** [https://t.me/basmondragon](https://t.me/basmondragon)\n",
    "- **LinkedIn:** [https://www.linkedin.com/in/basmondragon/](https://www.linkedin.com/in/basmondragon/)\n",
    "\n",
    "#### Skills\n",
    "\n",
    "- **Programming Languages:** Python, SQL  \n",
    "- **Libraries & Frameworks:** Pandas, NumPy, Scikit-learn, Matplotlib, Seaborn, XGBoost  \n",
    "- **Methodologies:** Data Cleaning, Feature Engineering, Machine Learning, Model Evaluation  \n",
    "- **Soft Skills:** Problem-Solving, Analytical Thinking, Communication\n",
    "\n",
    "#### Next Steps\n",
    "\n",
    "If you have any feedback or suggestions for improving this project, feel free to reach out to me via email or LinkedIn. I’m always open to learning and collaborating on new ideas!  \n",
    "\n",
    "Feel free to explore my other projects on GitHub: [https://github.com/basmondragon](https://github.com/basmondragon)"
   ]
  }
 ],
 "metadata": {
  "kernelspec": {
   "display_name": "base",
   "language": "python",
   "name": "python3"
  },
  "language_info": {
   "codemirror_mode": {
    "name": "ipython",
    "version": 3
   },
   "file_extension": ".py",
   "mimetype": "text/x-python",
   "name": "python",
   "nbconvert_exporter": "python",
   "pygments_lexer": "ipython3",
   "version": "3.12.7"
  }
 },
 "nbformat": 4,
 "nbformat_minor": 2
}
