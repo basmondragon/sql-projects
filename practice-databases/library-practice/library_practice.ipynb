{
 "cells": [
  {
   "cell_type": "markdown",
   "metadata": {},
   "source": [
    "### IMPORTANT!\n",
    "\n",
    "First of all it's important to import the necessary libraries to work with SQL in a Jupyter Notebook"
   ]
  },
  {
   "cell_type": "code",
   "execution_count": 1,
   "metadata": {},
   "outputs": [],
   "source": [
    "import sqlite3\n",
    "import prettytable \n",
    "\n",
    "con = sqlite3.connect('library.db')\n",
    "cur = con.cursor()\n",
    "\n",
    "prettytable.DEFAULT = 'DEFAULT'\n",
    "\n",
    "%load_ext sql\n",
    "%sql sqlite:///library.db\n"
   ]
  },
  {
   "cell_type": "markdown",
   "metadata": {},
   "source": [
    "My database is empty, so next I will create tables and insert some"
   ]
  },
  {
   "cell_type": "code",
   "execution_count": 2,
   "metadata": {
    "vscode": {
     "languageId": "sql"
    }
   },
   "outputs": [
    {
     "name": "stdout",
     "output_type": "stream",
     "text": [
      " * sqlite:///library.db\n",
      "Done.\n",
      "Done.\n",
      "Done.\n",
      "Done.\n",
      "Done.\n",
      "6 rows affected.\n",
      "4 rows affected.\n",
      "5 rows affected.\n",
      "Done.\n",
      "Done.\n",
      "Done.\n",
      "6 rows affected.\n",
      "8 rows affected.\n"
     ]
    },
    {
     "data": {
      "text/plain": [
       "[]"
      ]
     },
     "execution_count": 2,
     "metadata": {},
     "output_type": "execute_result"
    }
   ],
   "source": [
    "%%sql\n",
    "\n",
    "-- Create Tables\n",
    "CREATE TABLE Books (\n",
    "    book_id INTEGER PRIMARY KEY, -- Auto-increment in SQLite\n",
    "    title TEXT NOT NULL,\n",
    "    isbn TEXT UNIQUE NOT NULL,\n",
    "    published_date DATE,\n",
    "    genre TEXT\n",
    ");\n",
    "\n",
    "CREATE TABLE Authors (\n",
    "    author_id INTEGER PRIMARY KEY, -- Auto-increment in SQLite\n",
    "    name TEXT NOT NULL,\n",
    "    nationality TEXT,\n",
    "    birth_date DATE\n",
    ");\n",
    "\n",
    "CREATE TABLE BookAuthors (\n",
    "    book_id INTEGER NOT NULL,\n",
    "    author_id INTEGER NOT NULL,\n",
    "    PRIMARY KEY (book_id, author_id),\n",
    "    FOREIGN KEY (book_id) REFERENCES Books(book_id),\n",
    "    FOREIGN KEY (author_id) REFERENCES Authors(author_id)\n",
    ");\n",
    "\n",
    "CREATE TABLE Members (\n",
    "    member_id INTEGER PRIMARY KEY, -- Auto-increment in SQLite\n",
    "    name TEXT NOT NULL,\n",
    "    email TEXT UNIQUE NOT NULL,\n",
    "    join_date DATE NOT NULL,\n",
    "    membership_status TEXT CHECK(membership_status IN ('Active', 'Expired', 'Suspended')) DEFAULT 'Active'\n",
    ");\n",
    "\n",
    "CREATE TABLE Loans (\n",
    "    loan_id INTEGER PRIMARY KEY, -- Auto-increment in SQLite\n",
    "    book_id INTEGER NOT NULL,\n",
    "    member_id INTEGER NOT NULL,\n",
    "    loan_date DATE NOT NULL,\n",
    "    due_date DATE NOT NULL,\n",
    "    return_date DATE,\n",
    "    FOREIGN KEY (book_id) REFERENCES Books(book_id),\n",
    "    FOREIGN KEY (member_id) REFERENCES Members(member_id)\n",
    ");\n",
    "\n",
    "-- Insert Data into Books\n",
    "INSERT INTO Books (title, isbn, published_date, genre) VALUES\n",
    "('Machine Learning Basics', '9780451524119', '2022-08-14', 'Technology'),\n",
    "('The Art of Fiction', '9780671027030', '2019-04-22', 'Literature'),\n",
    "('Space Exploration', '9781402894626', '2021-06-30', 'Science'),\n",
    "('Modern Economics', '9780393048253', '2020-02-15', 'Economics'),\n",
    "('Culinary Arts', '9780060525476', '2023-01-10', 'Cooking'),\n",
    "('Environmental Science', '9780545227247', '2022-09-05', 'Science');\n",
    "\n",
    "-- Insert Data into Authors\n",
    "INSERT INTO Authors (name, nationality, birth_date) VALUES\n",
    "('James Patterson', 'American', '1965-09-22'),\n",
    "('Maria Sanchez', 'Spanish', '1988-05-30'),\n",
    "('David Kim', 'Korean', '1975-11-15'),\n",
    "('Emily White', 'Canadian', '1992-07-04');\n",
    "\n",
    "-- Insert Data into Members\n",
    "INSERT INTO Members (name, email, join_date, membership_status) VALUES\n",
    "('Grace Taylor', 'grace.t@lib.com', '2023-02-28', 'Active'),\n",
    "('Henry Clark', 'henry.c@lib.com', '2022-12-15', 'Suspended'),\n",
    "('Charlotte Lewis', 'charlotte@lib.com', '2023-04-01', 'Active'),\n",
    "('Ethan Walker', 'ethan.w@lib.com', '2023-03-10', 'Expired'),\n",
    "('Mia Hall', 'mia.h@lib.com', '2023-05-05', 'Active');\n",
    "\n",
    "-- Query to Retrieve Auto-Generated IDs\n",
    "-- Run these queries to get the actual IDs for Books, Authors, and Members.\n",
    "SELECT book_id, title FROM Books;\n",
    "SELECT author_id, name FROM Authors;\n",
    "SELECT member_id, name FROM Members;\n",
    "\n",
    "-- Insert Data into BookAuthors\n",
    "-- Replace the IDs below with the actual IDs retrieved from the queries above.\n",
    "INSERT INTO BookAuthors (book_id, author_id) VALUES\n",
    "(1, 4), -- Machine Learning Basics by Emily White\n",
    "(2, 3), -- The Art of Fiction by David Kim\n",
    "(3, 2), -- Space Exploration by Maria Sanchez\n",
    "(4, 1), -- Modern Economics by James Patterson\n",
    "(5, 4), -- Culinary Arts by Emily White\n",
    "(6, 3); -- Environmental Science by David Kim\n",
    "\n",
    "-- Insert Data into Loans\n",
    "-- Replace the IDs below with the actual IDs retrieved from the queries above.\n",
    "INSERT INTO Loans (book_id, member_id, loan_date, due_date, return_date) VALUES\n",
    "(3, 3, '2023-04-10', '2023-04-24', '2023-04-23'), -- Space Exploration loaned to Charlotte Lewis\n",
    "(4, 4, '2023-05-01', '2023-05-15', NULL),         -- Modern Economics loaned to Ethan Walker\n",
    "(5, 5, '2023-05-10', '2023-05-24', NULL),         -- Culinary Arts loaned to Mia Hall\n",
    "(6, 1, '2023-05-12', '2023-05-26', '2023-05-25'), -- Environmental Science loaned to Grace Taylor\n",
    "(1, 2, '2023-05-15', '2023-05-29', NULL),         -- Machine Learning Basics loaned to Henry Clark\n",
    "(2, 3, '2023-05-18', '2023-06-01', '2023-05-30'), -- The Art of Fiction loaned to Charlotte Lewis\n",
    "(3, 5, '2023-06-05', '2023-06-19', NULL),         -- Space Exploration loaned to Mia Hall\n",
    "(4, 4, '2023-06-10', '2023-06-24', NULL);         -- Modern Economics loaned to Ethan Walker"
   ]
  },
  {
   "cell_type": "markdown",
   "metadata": {},
   "source": [
    "---\n",
    "\n",
    "NOTE: These tasks are designed to test advanced SQL skills, including joins, aggregations, filtering, and the use of CTEs. Each task requires careful thought and a deep understanding of SQL syntax and logic.\n",
    "\n",
    "---"
   ]
  },
  {
   "cell_type": "markdown",
   "metadata": {},
   "source": [
    "\n",
    "\n",
    "### **Task 1: Identify Overdue Books**\n",
    "**Description:**  \n",
    "Find all books that are currently overdue (i.e., `return_date` is `NULL` and `due_date` has passed). Include details about the book title, member name, loan date, due date, and the number of days overdue.\n",
    "\n",
    "**Tables Involved:**  \n",
    "- `Loans`\n",
    "- `Books`\n",
    "- `Members`\n",
    "\n",
    "**Expected Output:**  \n",
    "| Book Title              | Member Name       | Loan Date   | Due Date     | Days Overdue |\n",
    "|-------------------------|-------------------|-------------|--------------|--------------|\n",
    "| Modern Economics        | Ethan Walker      | 2023-05-01  | 2023-05-15   | 15           |\n",
    "| Culinary Arts           | Mia Hall          | 2023-05-10  | 2023-05-24   | 14           |\n",
    "\n",
    "**Hint:** Use `CURRENT_DATE` to calculate the number of days overdue.\n",
    "\n",
    "---\n",
    "\n"
   ]
  },
  {
   "cell_type": "code",
   "execution_count": 3,
   "metadata": {
    "vscode": {
     "languageId": "sql"
    }
   },
   "outputs": [
    {
     "name": "stdout",
     "output_type": "stream",
     "text": [
      " * sqlite:///library.db\n",
      "Done.\n"
     ]
    },
    {
     "data": {
      "text/html": [
       "<table>\n",
       "    <thead>\n",
       "        <tr>\n",
       "            <th>book_title</th>\n",
       "            <th>member_name</th>\n",
       "            <th>loan_date</th>\n",
       "            <th>due_date</th>\n",
       "            <th>days_overdue</th>\n",
       "        </tr>\n",
       "    </thead>\n",
       "    <tbody>\n",
       "        <tr>\n",
       "            <td>Modern Economics</td>\n",
       "            <td>Ethan Walker</td>\n",
       "            <td>2023-05-01</td>\n",
       "            <td>2023-05-15</td>\n",
       "            <td>669.0</td>\n",
       "        </tr>\n",
       "        <tr>\n",
       "            <td>Culinary Arts</td>\n",
       "            <td>Mia Hall</td>\n",
       "            <td>2023-05-10</td>\n",
       "            <td>2023-05-24</td>\n",
       "            <td>660.0</td>\n",
       "        </tr>\n",
       "        <tr>\n",
       "            <td>Machine Learning Basics</td>\n",
       "            <td>Henry Clark</td>\n",
       "            <td>2023-05-15</td>\n",
       "            <td>2023-05-29</td>\n",
       "            <td>655.0</td>\n",
       "        </tr>\n",
       "        <tr>\n",
       "            <td>Space Exploration</td>\n",
       "            <td>Mia Hall</td>\n",
       "            <td>2023-06-05</td>\n",
       "            <td>2023-06-19</td>\n",
       "            <td>634.0</td>\n",
       "        </tr>\n",
       "        <tr>\n",
       "            <td>Modern Economics</td>\n",
       "            <td>Ethan Walker</td>\n",
       "            <td>2023-06-10</td>\n",
       "            <td>2023-06-24</td>\n",
       "            <td>629.0</td>\n",
       "        </tr>\n",
       "    </tbody>\n",
       "</table>"
      ],
      "text/plain": [
       "[('Modern Economics', 'Ethan Walker', '2023-05-01', '2023-05-15', 669.0),\n",
       " ('Culinary Arts', 'Mia Hall', '2023-05-10', '2023-05-24', 660.0),\n",
       " ('Machine Learning Basics', 'Henry Clark', '2023-05-15', '2023-05-29', 655.0),\n",
       " ('Space Exploration', 'Mia Hall', '2023-06-05', '2023-06-19', 634.0),\n",
       " ('Modern Economics', 'Ethan Walker', '2023-06-10', '2023-06-24', 629.0)]"
      ]
     },
     "execution_count": 3,
     "metadata": {},
     "output_type": "execute_result"
    }
   ],
   "source": [
    "%%sql\n",
    "\n",
    "WITH Dates AS (\n",
    "    SELECT\n",
    "        loan_id,\n",
    "        book_id,\n",
    "        member_id,\n",
    "        loan_date,\n",
    "        due_date,\n",
    "        return_date,\n",
    "        CURRENT_DATE AS today_date,\n",
    "        CASE\n",
    "            WHEN return_date IS NULL AND due_date < CURRENT_DATE THEN julianday(CURRENT_DATE) - julianday(due_date)\n",
    "            ELSE 0\n",
    "        END AS days_overdue\n",
    "    FROM\n",
    "        Loans\n",
    ") \n",
    "SELECT\n",
    "    b.title AS book_title,\n",
    "    m.name AS member_name,\n",
    "    d.loan_date,\n",
    "    d.due_date,\n",
    "    d.days_overdue\n",
    "FROM\n",
    "    Dates d\n",
    "    JOIN Members m ON d.member_id = m.member_id\n",
    "    JOIN Books b ON d.book_id = b.book_id\n",
    "WHERE\n",
    "    days_overdue > 0\n",
    "\n"
   ]
  },
  {
   "cell_type": "markdown",
   "metadata": {},
   "source": [
    "### **Task 2: Most Prolific Author**\n",
    "**Description:**  \n",
    "Identify the author who has written the most books. Include the author's name, nationality, and the count of books they have authored.\n",
    "\n",
    "**Tables Involved:**  \n",
    "- `Authors`\n",
    "- `BookAuthors`\n",
    "\n",
    "**Expected Output:**  \n",
    "| Author Name    | Nationality | Book Count |\n",
    "|----------------|-------------|------------|\n",
    "| David Kim      | Korean      | 2          |\n",
    "\n",
    "**Hint:** Use aggregation (`COUNT`) and sorting (`ORDER BY`) to find the top author.\n",
    "\n",
    "---\n",
    "\n"
   ]
  },
  {
   "cell_type": "code",
   "execution_count": 4,
   "metadata": {
    "vscode": {
     "languageId": "sql"
    }
   },
   "outputs": [
    {
     "name": "stdout",
     "output_type": "stream",
     "text": [
      " * sqlite:///library.db\n",
      "Done.\n"
     ]
    },
    {
     "data": {
      "text/html": [
       "<table>\n",
       "    <thead>\n",
       "        <tr>\n",
       "            <th>Author Name</th>\n",
       "            <th>Nationality</th>\n",
       "            <th>Book Count</th>\n",
       "        </tr>\n",
       "    </thead>\n",
       "    <tbody>\n",
       "        <tr>\n",
       "            <td>David Kim</td>\n",
       "            <td>Korean</td>\n",
       "            <td>2</td>\n",
       "        </tr>\n",
       "        <tr>\n",
       "            <td>Emily White</td>\n",
       "            <td>Canadian</td>\n",
       "            <td>2</td>\n",
       "        </tr>\n",
       "    </tbody>\n",
       "</table>"
      ],
      "text/plain": [
       "[('David Kim', 'Korean', 2), ('Emily White', 'Canadian', 2)]"
      ]
     },
     "execution_count": 4,
     "metadata": {},
     "output_type": "execute_result"
    }
   ],
   "source": [
    "%%sql\n",
    "\n",
    "WITH BookCount AS (\n",
    "    SELECT\n",
    "        a.name,\n",
    "        a.nationality,\n",
    "        COUNT(DISTINCT ba.book_id) AS book_count\n",
    "    FROM\n",
    "        Authors a\n",
    "        JOIN BookAuthors ba ON a.author_id = ba.author_id\n",
    "    GROUP BY\n",
    "        a.name\n",
    ")\n",
    "\n",
    "SELECT\n",
    "    name AS \"Author Name\",\n",
    "    nationality AS Nationality,\n",
    "    book_count AS \"Book Count\" \n",
    "FROM\n",
    "    BookCount\n",
    "WHERE\n",
    "    book_count = (\n",
    "        SELECT\n",
    "            MAX(book_count)\n",
    "        FROM\n",
    "            BookCount\n",
    "    )"
   ]
  },
  {
   "cell_type": "markdown",
   "metadata": {},
   "source": [
    "### **Task 3: Members with Multiple Loans**\n",
    "**Description:**  \n",
    "Find members who have borrowed more than one book. Include the member's name, email, and the count of loans.\n",
    "\n",
    "**Tables Involved:**  \n",
    "- `Members`\n",
    "- `Loans`\n",
    "\n",
    "**Expected Output:**  \n",
    "| Member Name       | Email               | Loan Count |\n",
    "|-------------------|---------------------|------------|\n",
    "| Charlotte Lewis   | charlotte@lib.com   | 2          |\n",
    "| Ethan Walker      | ethan.w@lib.com     | 2          |\n",
    "\n",
    "**Hint:** Use `GROUP BY` and `HAVING` to filter members with multiple loans.\n",
    "\n",
    "---\n",
    "\n"
   ]
  },
  {
   "cell_type": "code",
   "execution_count": 5,
   "metadata": {
    "vscode": {
     "languageId": "sql"
    }
   },
   "outputs": [
    {
     "name": "stdout",
     "output_type": "stream",
     "text": [
      " * sqlite:///library.db\n",
      "Done.\n"
     ]
    },
    {
     "data": {
      "text/html": [
       "<table>\n",
       "    <thead>\n",
       "        <tr>\n",
       "            <th>Member Name</th>\n",
       "            <th>Email</th>\n",
       "            <th>Loan Count</th>\n",
       "        </tr>\n",
       "    </thead>\n",
       "    <tbody>\n",
       "        <tr>\n",
       "            <td>Charlotte Lewis</td>\n",
       "            <td>charlotte@lib.com</td>\n",
       "            <td>2</td>\n",
       "        </tr>\n",
       "        <tr>\n",
       "            <td>Ethan Walker</td>\n",
       "            <td>ethan.w@lib.com</td>\n",
       "            <td>2</td>\n",
       "        </tr>\n",
       "        <tr>\n",
       "            <td>Mia Hall</td>\n",
       "            <td>mia.h@lib.com</td>\n",
       "            <td>2</td>\n",
       "        </tr>\n",
       "    </tbody>\n",
       "</table>"
      ],
      "text/plain": [
       "[('Charlotte Lewis', 'charlotte@lib.com', 2),\n",
       " ('Ethan Walker', 'ethan.w@lib.com', 2),\n",
       " ('Mia Hall', 'mia.h@lib.com', 2)]"
      ]
     },
     "execution_count": 5,
     "metadata": {},
     "output_type": "execute_result"
    }
   ],
   "source": [
    "%%sql\n",
    "\n",
    "SELECT\n",
    "    m.name AS \"Member Name\",\n",
    "    m.email AS Email,\n",
    "    COUNT(DISTINCT l.loan_id) AS \"Loan Count\"\n",
    "FROM\n",
    "    Members m\n",
    "    JOIN Loans l ON m.member_id = l.member_id\n",
    "GROUP BY\n",
    "    m.name,\n",
    "    m.email\n",
    "HAVING\n",
    "    COUNT(DISTINCT l.loan_id) > 1"
   ]
  },
  {
   "cell_type": "markdown",
   "metadata": {},
   "source": [
    "### **Task 4: Genre Popularity**\n",
    "**Description:**  \n",
    "Determine the popularity of each genre based on the number of loans. Include the genre name and the total number of loans for that genre.\n",
    "\n",
    "**Tables Involved:**  \n",
    "- `Books`\n",
    "- `Loans`\n",
    "\n",
    "**Expected Output:**  \n",
    "| Genre       | Total Loans |\n",
    "|-------------|-------------|\n",
    "| Science     | 3           |\n",
    "| Technology  | 1           |\n",
    "\n",
    "**Hint:** Join `Books` and `Loans`, then aggregate by genre.\n",
    "\n",
    "---\n",
    "\n"
   ]
  },
  {
   "cell_type": "code",
   "execution_count": 6,
   "metadata": {
    "vscode": {
     "languageId": "sql"
    }
   },
   "outputs": [
    {
     "name": "stdout",
     "output_type": "stream",
     "text": [
      " * sqlite:///library.db\n",
      "Done.\n"
     ]
    },
    {
     "data": {
      "text/html": [
       "<table>\n",
       "    <thead>\n",
       "        <tr>\n",
       "            <th>Genre</th>\n",
       "            <th>Total Loans</th>\n",
       "        </tr>\n",
       "    </thead>\n",
       "    <tbody>\n",
       "        <tr>\n",
       "            <td>Science</td>\n",
       "            <td>3</td>\n",
       "        </tr>\n",
       "        <tr>\n",
       "            <td>Economics</td>\n",
       "            <td>2</td>\n",
       "        </tr>\n",
       "        <tr>\n",
       "            <td>Technology</td>\n",
       "            <td>1</td>\n",
       "        </tr>\n",
       "        <tr>\n",
       "            <td>Literature</td>\n",
       "            <td>1</td>\n",
       "        </tr>\n",
       "        <tr>\n",
       "            <td>Cooking</td>\n",
       "            <td>1</td>\n",
       "        </tr>\n",
       "    </tbody>\n",
       "</table>"
      ],
      "text/plain": [
       "[('Science', 3),\n",
       " ('Economics', 2),\n",
       " ('Technology', 1),\n",
       " ('Literature', 1),\n",
       " ('Cooking', 1)]"
      ]
     },
     "execution_count": 6,
     "metadata": {},
     "output_type": "execute_result"
    }
   ],
   "source": [
    "%%sql\n",
    "\n",
    "SELECT\n",
    "    b.genre AS Genre,\n",
    "    COUNT(l.loan_id) AS \"Total Loans\"\n",
    "FROM\n",
    "    Books b\n",
    "    JOIN Loans l ON b.book_id = l.book_id\n",
    "GROUP BY\n",
    "    b.genre\n",
    "ORDER BY\n",
    "    COUNT(l.loan_id) DESC\n"
   ]
  },
  {
   "cell_type": "markdown",
   "metadata": {},
   "source": [
    "### **Task 5: Active Members with No Loans**\n",
    "**Description:**  \n",
    "Find active members who have not borrowed any books. Include their name, email, and join date.\n",
    "\n",
    "**Tables Involved:**  \n",
    "- `Members`\n",
    "- `Loans`\n",
    "\n",
    "**Expected Output:**  \n",
    "| Member Name       | Email               | Join Date   |\n",
    "|-------------------|---------------------|-------------|\n",
    "| Grace Taylor      | grace.t@lib.com     | 2023-02-28  |\n",
    "\n",
    "**Hint:** Use a `LEFT JOIN` between `Members` and `Loans`, and filter for `loan_id IS NULL`.\n",
    "\n",
    "---\n",
    "\n"
   ]
  },
  {
   "cell_type": "code",
   "execution_count": 7,
   "metadata": {
    "vscode": {
     "languageId": "sql"
    }
   },
   "outputs": [
    {
     "name": "stdout",
     "output_type": "stream",
     "text": [
      " * sqlite:///library.db\n",
      "Done.\n"
     ]
    },
    {
     "data": {
      "text/html": [
       "<table>\n",
       "    <thead>\n",
       "        <tr>\n",
       "            <th>Member Name</th>\n",
       "            <th>Email</th>\n",
       "            <th>Join Date</th>\n",
       "        </tr>\n",
       "    </thead>\n",
       "    <tbody>\n",
       "    </tbody>\n",
       "</table>"
      ],
      "text/plain": [
       "[]"
      ]
     },
     "execution_count": 7,
     "metadata": {},
     "output_type": "execute_result"
    }
   ],
   "source": [
    "%%sql\n",
    "\n",
    "SELECT\n",
    "    m.name AS \"Member Name\",\n",
    "    m.email AS Email,\n",
    "    m.join_date AS \"Join Date\"\n",
    "FROM\n",
    "    Members m\n",
    "LEFT JOIN\n",
    "    Loans l ON m.member_id = l.member_id\n",
    "WHERE\n",
    "    l.loan_id IS NULL\n",
    "    AND m.membership_status = 'Active';"
   ]
  },
  {
   "cell_type": "markdown",
   "metadata": {},
   "source": [
    "### **Task 6: Average Loan Duration by Genre**\n",
    "**Description:**  \n",
    "Calculate the average loan duration (in days) for each genre. Only include genres with at least two loans.\n",
    "\n",
    "**Tables Involved:**  \n",
    "- `Books`\n",
    "- `Loans`\n",
    "\n",
    "**Expected Output:**  \n",
    "| Genre       | Avg Loan Duration (Days) |\n",
    "|-------------|---------------------------|\n",
    "| Science     | 12                        |\n",
    "\n",
    "**Hint:** Use a CTE to calculate loan durations, then aggregate by genre.\n",
    "\n",
    "---\n",
    "\n"
   ]
  },
  {
   "cell_type": "code",
   "execution_count": 8,
   "metadata": {
    "vscode": {
     "languageId": "sql"
    }
   },
   "outputs": [
    {
     "name": "stdout",
     "output_type": "stream",
     "text": [
      " * sqlite:///library.db\n",
      "Done.\n"
     ]
    },
    {
     "data": {
      "text/html": [
       "<table>\n",
       "    <thead>\n",
       "        <tr>\n",
       "            <th>Genre</th>\n",
       "            <th>Avg Loan Duration (Days)</th>\n",
       "        </tr>\n",
       "    </thead>\n",
       "    <tbody>\n",
       "        <tr>\n",
       "            <td>Economics</td>\n",
       "            <td>663.5138004166074</td>\n",
       "        </tr>\n",
       "        <tr>\n",
       "            <td>Science</td>\n",
       "            <td>224.83793347220248</td>\n",
       "        </tr>\n",
       "    </tbody>\n",
       "</table>"
      ],
      "text/plain": [
       "[('Economics', 663.5138004166074), ('Science', 224.83793347220248)]"
      ]
     },
     "execution_count": 8,
     "metadata": {},
     "output_type": "execute_result"
    }
   ],
   "source": [
    "%%sql\n",
    "\n",
    "\n",
    "WITH LoanDuration AS (\n",
    "    SELECT\n",
    "        l.loan_id,\n",
    "        CASE\n",
    "            WHEN l.return_date IS NOT NULL THEN julianday(l.return_date) - julianday(l.loan_date)\n",
    "            ELSE julianday('now') - julianday(l.loan_date)\n",
    "        END AS loan_duration,\n",
    "        b.genre\n",
    "    FROM \n",
    "        Loans l\n",
    "        JOIN Books b ON l.book_id = b.book_id\n",
    ")\n",
    "SELECT\n",
    "    genre AS Genre,\n",
    "    AVG(loan_duration) AS \"Avg Loan Duration (Days)\"\n",
    "FROM\n",
    "    LoanDuration\n",
    "GROUP BY\n",
    "    genre\n",
    "HAVING\n",
    "    COUNT(loan_id) >= 2\n"
   ]
  },
  {
   "cell_type": "markdown",
   "metadata": {},
   "source": [
    "### **Task 7: Books Never Loaned**\n",
    "**Description:**  \n",
    "List all books that have never been loaned. Include the book title, ISBN, and genre.\n",
    "\n",
    "**Tables Involved:**  \n",
    "- `Books`\n",
    "- `Loans`\n",
    "\n",
    "**Expected Output:**  \n",
    "| Book Title              | ISBN             | Genre       |\n",
    "|-------------------------|------------------|-------------|\n",
    "| The Art of Fiction      | 9780671027030    | Literature  |\n",
    "\n",
    "**Hint:** Use a `LEFT JOIN` between `Books` and `Loans`, and filter for `loan_id IS NULL`.\n",
    "\n",
    "---\n",
    "\n"
   ]
  },
  {
   "cell_type": "code",
   "execution_count": 9,
   "metadata": {
    "vscode": {
     "languageId": "sql"
    }
   },
   "outputs": [
    {
     "name": "stdout",
     "output_type": "stream",
     "text": [
      " * sqlite:///library.db\n",
      "Done.\n"
     ]
    },
    {
     "data": {
      "text/html": [
       "<table>\n",
       "    <thead>\n",
       "        <tr>\n",
       "            <th>Book Title</th>\n",
       "            <th>ISBN</th>\n",
       "            <th>Genre</th>\n",
       "        </tr>\n",
       "    </thead>\n",
       "    <tbody>\n",
       "    </tbody>\n",
       "</table>"
      ],
      "text/plain": [
       "[]"
      ]
     },
     "execution_count": 9,
     "metadata": {},
     "output_type": "execute_result"
    }
   ],
   "source": [
    "%%sql\n",
    "\n",
    "SELECT\n",
    "    b.title AS \"Book Title\",\n",
    "    isbn AS ISBN,\n",
    "    genre AS Genre\n",
    "FROM\n",
    "    Books b\n",
    "    LEFT JOIN Loans l ON b.book_id = l.book_id\n",
    "WHERE\n",
    "    l.loan_id IS NULL\n",
    "\n"
   ]
  },
  {
   "cell_type": "markdown",
   "metadata": {},
   "source": [
    "### **Task 8: Monthly Loan Trends**\n",
    "**Description:**  \n",
    "Generate a report showing the number of loans per month for the year 2023. Include the month name and the loan count.\n",
    "\n",
    "**Tables Involved:**  \n",
    "- `Loans`\n",
    "\n",
    "**Expected Output:**  \n",
    "| Month       | Loan Count |\n",
    "|-------------|------------|\n",
    "| April       | 2          |\n",
    "| May         | 4          |\n",
    "| June        | 2          |\n",
    "\n",
    "**Hint:** Use `strftime('%m', loan_date)` to extract the month and aggregate by it.\n",
    "\n",
    "---\n",
    "\n"
   ]
  },
  {
   "cell_type": "code",
   "execution_count": 10,
   "metadata": {
    "vscode": {
     "languageId": "sql"
    }
   },
   "outputs": [
    {
     "name": "stdout",
     "output_type": "stream",
     "text": [
      " * sqlite:///library.db\n",
      "Done.\n"
     ]
    },
    {
     "data": {
      "text/html": [
       "<table>\n",
       "    <thead>\n",
       "        <tr>\n",
       "            <th>Month</th>\n",
       "            <th>Loan Count</th>\n",
       "        </tr>\n",
       "    </thead>\n",
       "    <tbody>\n",
       "        <tr>\n",
       "            <td>04</td>\n",
       "            <td>1</td>\n",
       "        </tr>\n",
       "        <tr>\n",
       "            <td>05</td>\n",
       "            <td>5</td>\n",
       "        </tr>\n",
       "        <tr>\n",
       "            <td>06</td>\n",
       "            <td>2</td>\n",
       "        </tr>\n",
       "    </tbody>\n",
       "</table>"
      ],
      "text/plain": [
       "[('04', 1), ('05', 5), ('06', 2)]"
      ]
     },
     "execution_count": 10,
     "metadata": {},
     "output_type": "execute_result"
    }
   ],
   "source": [
    "%%sql\n",
    "\n",
    "SELECT\n",
    "    strftime('%m', loan_date) AS Month,\n",
    "    COUNT(loan_id) AS \"Loan Count\"\n",
    "FROM\n",
    "    Loans\n",
    "WHERE\n",
    "    strftime('%Y', loan_date) = '2023'\n",
    "GROUP BY\n",
    "    Month\n",
    "ORDER BY\n",
    "    Month\n",
    "\n"
   ]
  },
  {
   "cell_type": "markdown",
   "metadata": {},
   "source": [
    "### **Task 9: Suspended Members with Outstanding Loans**\n",
    "**Description:**  \n",
    "Find suspended members who still have outstanding loans (i.e., `return_date IS NULL`). Include the member's name, email, and the titles of the books they have not returned.\n",
    "\n",
    "**Tables Involved:**  \n",
    "- `Members`\n",
    "- `Loans`\n",
    "- `Books`\n",
    "\n",
    "**Expected Output:**  \n",
    "| Member Name       | Email               | Book Title          |\n",
    "|-------------------|---------------------|---------------------|\n",
    "| Henry Clark       | henry.c@lib.com     | Machine Learning Basics |\n",
    "\n",
    "**Hint:** Use a `JOIN` between `Members`, `Loans`, and `Books`, and filter by `membership_status = 'Suspended'`.\n",
    "\n",
    "---\n",
    "\n"
   ]
  },
  {
   "cell_type": "code",
   "execution_count": 11,
   "metadata": {
    "vscode": {
     "languageId": "sql"
    }
   },
   "outputs": [
    {
     "name": "stdout",
     "output_type": "stream",
     "text": [
      " * sqlite:///library.db\n",
      "Done.\n"
     ]
    },
    {
     "data": {
      "text/html": [
       "<table>\n",
       "    <thead>\n",
       "        <tr>\n",
       "            <th>name</th>\n",
       "            <th>email</th>\n",
       "            <th>title</th>\n",
       "        </tr>\n",
       "    </thead>\n",
       "    <tbody>\n",
       "        <tr>\n",
       "            <td>Henry Clark</td>\n",
       "            <td>henry.c@lib.com</td>\n",
       "            <td>Machine Learning Basics</td>\n",
       "        </tr>\n",
       "    </tbody>\n",
       "</table>"
      ],
      "text/plain": [
       "[('Henry Clark', 'henry.c@lib.com', 'Machine Learning Basics')]"
      ]
     },
     "execution_count": 11,
     "metadata": {},
     "output_type": "execute_result"
    }
   ],
   "source": [
    "%%sql\n",
    "\n",
    "SELECT\n",
    "    m.name,\n",
    "    m.email,\n",
    "    b.title\n",
    "FROM\n",
    "    Members m \n",
    "    JOIN Loans l ON m.member_id = l.member_id\n",
    "    JOIN Books b ON l.book_id = b.book_id\n",
    "WHERE\n",
    "    l.return_date IS NULL\n",
    "    AND m.membership_status = 'Suspended'"
   ]
  },
  {
   "cell_type": "markdown",
   "metadata": {},
   "source": [
    "### **Task 10: Author Contribution to Genres**\n",
    "**Description:**  \n",
    "For each author, determine the percentage of books they have contributed to each genre. Include the author's name, genre, and the contribution percentage.\n",
    "\n",
    "**Tables Involved:**  \n",
    "- `Authors`\n",
    "- `BookAuthors`\n",
    "- `Books`\n",
    "\n",
    "**Expected Output:**  \n",
    "| Author Name    | Genre       | Contribution (%) |\n",
    "|----------------|-------------|------------------|\n",
    "| David Kim      | Science     | 50.0             |\n",
    "| Emily White    | Technology  | 100.0            |\n",
    "\n",
    "**Hint:** Use a CTE to calculate total books per genre, then calculate the contribution percentage.\n",
    "\n",
    "---"
   ]
  },
  {
   "cell_type": "code",
   "execution_count": 12,
   "metadata": {
    "vscode": {
     "languageId": "sql"
    }
   },
   "outputs": [
    {
     "name": "stdout",
     "output_type": "stream",
     "text": [
      " * sqlite:///library.db\n",
      "Done.\n"
     ]
    },
    {
     "data": {
      "text/html": [
       "<table>\n",
       "    <thead>\n",
       "        <tr>\n",
       "            <th>Author Name</th>\n",
       "            <th>Genre</th>\n",
       "            <th>Contribution (%)</th>\n",
       "        </tr>\n",
       "    </thead>\n",
       "    <tbody>\n",
       "        <tr>\n",
       "            <td>David Kim</td>\n",
       "            <td>Literature</td>\n",
       "            <td>100.0</td>\n",
       "        </tr>\n",
       "        <tr>\n",
       "            <td>David Kim</td>\n",
       "            <td>Science</td>\n",
       "            <td>50.0</td>\n",
       "        </tr>\n",
       "        <tr>\n",
       "            <td>Emily White</td>\n",
       "            <td>Cooking</td>\n",
       "            <td>100.0</td>\n",
       "        </tr>\n",
       "        <tr>\n",
       "            <td>Emily White</td>\n",
       "            <td>Technology</td>\n",
       "            <td>100.0</td>\n",
       "        </tr>\n",
       "        <tr>\n",
       "            <td>James Patterson</td>\n",
       "            <td>Economics</td>\n",
       "            <td>100.0</td>\n",
       "        </tr>\n",
       "        <tr>\n",
       "            <td>Maria Sanchez</td>\n",
       "            <td>Science</td>\n",
       "            <td>50.0</td>\n",
       "        </tr>\n",
       "    </tbody>\n",
       "</table>"
      ],
      "text/plain": [
       "[('David Kim', 'Literature', 100.0),\n",
       " ('David Kim', 'Science', 50.0),\n",
       " ('Emily White', 'Cooking', 100.0),\n",
       " ('Emily White', 'Technology', 100.0),\n",
       " ('James Patterson', 'Economics', 100.0),\n",
       " ('Maria Sanchez', 'Science', 50.0)]"
      ]
     },
     "execution_count": 12,
     "metadata": {},
     "output_type": "execute_result"
    }
   ],
   "source": [
    "%%sql\n",
    "\n",
    "WITH TotalBooksPerGenre AS (\n",
    "    SELECT\n",
    "        genre,\n",
    "        COUNT(book_id) AS total_books\n",
    "    FROM\n",
    "        Books\n",
    "    GROUP BY\n",
    "        genre\n",
    "), TotalBooksPerAuthor AS (\n",
    "    SELECT\n",
    "        a.name,\n",
    "        b.genre,\n",
    "        COUNT(b.book_id) AS count_books_per_author\n",
    "    FROM\n",
    "        Books b\n",
    "        JOIN BookAuthors ba ON b.book_id = ba.book_id\n",
    "        JOIN Authors a ON ba.author_id = a.author_id\n",
    "    GROUP BY\n",
    "        a.name,\n",
    "        b.genre\n",
    ")\n",
    "SELECT\n",
    "    ba.name AS \"Author Name\",\n",
    "    ba.genre AS Genre,\n",
    "    (CAST(ba.count_books_per_author AS REAL) / bg.total_books) * 100 AS \"Contribution (%)\"\n",
    "FROM\n",
    "    TotalBooksPerAuthor ba\n",
    "    JOIN TotalBooksPerGenre bg ON ba.genre = bg.genre"
   ]
  },
  {
   "cell_type": "markdown",
   "metadata": {},
   "source": [
    "---\n",
    "\n",
    "### About the Author\n",
    "\n",
    "**Name:** Sebastian Mondragon  \n",
    "\n",
    "- **Email:** basmondragon@proton.me\n",
    "- **Telegram:** [https://t.me/basmondragon](https://t.me/basmondragon)\n",
    "- **LinkedIn:** [https://www.linkedin.com/in/basmondragon/](https://www.linkedin.com/in/basmondragon/)\n",
    "\n",
    "#### Skills\n",
    "\n",
    "- **Programming Languages:** Python, SQL  \n",
    "- **Libraries & Frameworks:** Pandas, NumPy, Scikit-learn, Matplotlib, Seaborn, XGBoost  \n",
    "- **Methodologies:** Data Cleaning, Feature Engineering, Machine Learning, Model Evaluation  \n",
    "- **Soft Skills:** Problem-Solving, Analytical Thinking, Communication\n",
    "\n",
    "#### Next Steps\n",
    "\n",
    "If you have any feedback or suggestions for improving this project, feel free to reach out to me via email or LinkedIn. I’m always open to learning and collaborating on new ideas!  \n",
    "\n",
    "Feel free to explore my other projects on GitHub: [https://github.com/basmondragon](https://github.com/basmondragon)"
   ]
  }
 ],
 "metadata": {
  "kernelspec": {
   "display_name": "base",
   "language": "python",
   "name": "python3"
  },
  "language_info": {
   "codemirror_mode": {
    "name": "ipython",
    "version": 3
   },
   "file_extension": ".py",
   "mimetype": "text/x-python",
   "name": "python",
   "nbconvert_exporter": "python",
   "pygments_lexer": "ipython3",
   "version": "3.12.7"
  }
 },
 "nbformat": 4,
 "nbformat_minor": 2
}
